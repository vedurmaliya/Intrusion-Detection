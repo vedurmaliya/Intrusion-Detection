{
  "cells": [
    {
      "cell_type": "markdown",
      "metadata": {
        "id": "view-in-github",
        "colab_type": "text"
      },
      "source": [
        "<a href=\"https://colab.research.google.com/github/Wise-Wizard/Intrusion-Detection-BTP/blob/master/Sampling.ipynb\" target=\"_parent\"><img src=\"https://colab.research.google.com/assets/colab-badge.svg\" alt=\"Open In Colab\"/></a>"
      ]
    },
    {
      "cell_type": "code",
      "execution_count": 54,
      "metadata": {
        "id": "Zo0hsaBmzFGv"
      },
      "outputs": [],
      "source": [
        "import pandas as pd\n",
        "import numpy as np\n",
        "from imblearn.under_sampling import RandomUnderSampler\n",
        "from sklearn.model_selection import train_test_split\n",
        "from sklearn import svm\n",
        "from sklearn.ensemble import RandomForestClassifier\n",
        "import xgboost as xgb\n",
        "import tensorflow as tf\n",
        "from tensorflow.keras.models import Sequential\n",
        "from tensorflow.keras.layers import LSTM, Dense, Conv2D, MaxPooling2D, Flatten, Dropout, BatchNormalization, ZeroPadding2D\n",
        "from sklearn.metrics import accuracy_score\n",
        "from sklearn.metrics import classification_report\n",
        "from sklearn.neighbors import NearestNeighbors\n",
        "from sklearn.cluster import KMeans\n",
        "from sklearn.metrics import confusion_matrix\n",
        "import matplotlib.pyplot as plt\n",
        "import seaborn as sns\n",
        "import warnings\n",
        "warnings.filterwarnings('ignore')"
      ]
    },
    {
      "cell_type": "code",
      "execution_count": 55,
      "metadata": {
        "id": "8dzvx9HmzvRT"
      },
      "outputs": [],
      "source": [
        "df = pd.read_csv('preprocessedCIC.csv').sample(frac=1).reset_index(drop=True)[:200000]\n",
        "df = df.replace([np.inf, -np.inf], np.nan).dropna()"
      ]
    },
    {
      "cell_type": "code",
      "execution_count": 56,
      "metadata": {
        "colab": {
          "base_uri": "https://localhost:8080/"
        },
        "id": "eK9KmUOFzwI5",
        "outputId": "8634d2f9-aaf4-4b3b-db22-ce4ab967545d"
      },
      "outputs": [
        {
          "output_type": "execute_result",
          "data": {
            "text/plain": [
              "(20416, 39)"
            ]
          },
          "metadata": {},
          "execution_count": 56
        }
      ],
      "source": [
        "df.shape"
      ]
    },
    {
      "cell_type": "code",
      "execution_count": 57,
      "metadata": {
        "colab": {
          "base_uri": "https://localhost:8080/"
        },
        "id": "QirdZ_SazzUi",
        "outputId": "24ed656a-cfc7-4add-a9c9-55de72f20e83"
      },
      "outputs": [
        {
          "output_type": "execute_result",
          "data": {
            "text/plain": [
              "Label\n",
              "BENIGN                      17425\n",
              "DoS Hulk                     1479\n",
              "DDoS                         1017\n",
              "PortScan                      214\n",
              "DoS GoldenEye                  76\n",
              "FTP-Patator                    55\n",
              "DoS slowloris                  45\n",
              "DoS Slowhttptest               38\n",
              "SSH-Patator                    36\n",
              "Web Attack  Brute Force       18\n",
              "Bot                             9\n",
              "Web Attack  XSS                4\n",
              "Name: count, dtype: int64"
            ]
          },
          "metadata": {},
          "execution_count": 57
        }
      ],
      "source": [
        "df[\"Label\"].value_counts()"
      ]
    },
    {
      "cell_type": "code",
      "execution_count": 58,
      "metadata": {
        "colab": {
          "base_uri": "https://localhost:8080/"
        },
        "id": "Et8G6bQ5Pb8u",
        "outputId": "10cff055-ab3d-4110-b690-12ba324cdf1f"
      },
      "outputs": [
        {
          "output_type": "execute_result",
          "data": {
            "text/plain": [
              "12"
            ]
          },
          "metadata": {},
          "execution_count": 58
        }
      ],
      "source": [
        "cl = len(df[\"Label\"].value_counts())\n",
        "cl"
      ]
    },
    {
      "cell_type": "code",
      "execution_count": 59,
      "metadata": {
        "id": "MbcrE6Usz57p"
      },
      "outputs": [],
      "source": [
        "# Define the minority and majority classes\n",
        "minority_class = ['Web Attack  Sql Injection', 'Infiltration', 'Web Attack  XSS']\n",
        "majority_class = ['BENIGN', 'DoS Hulk', 'DDoS', 'PortScan', 'Web Attack  Brute Force', 'Bot', 'DoS Slowhttptest', 'DoS slowloris', 'FTP-Patator', 'SSH-Patator', 'DoS GoldenEye']\n",
        "\n",
        "# Split the dataset into minority and majority\n",
        "minority = df[df['Label'].isin(minority_class)].reset_index(drop=True)\n",
        "majority = df[df['Label'].isin(majority_class)].reset_index(drop=True)"
      ]
    },
    {
      "cell_type": "code",
      "execution_count": 60,
      "metadata": {
        "id": "AxpaqRY-0KRl"
      },
      "outputs": [],
      "source": [
        "enn = NearestNeighbors(n_neighbors=500)\n",
        "enn.fit(majority.drop(columns=['Label']))\n",
        "difficult_idx = enn.kneighbors(minority.drop(columns=['Label']), return_distance=False).flatten()\n",
        "difficult = df.iloc[difficult_idx]\n",
        "easy = df.reset_index(drop=True).drop(difficult_idx)"
      ]
    },
    {
      "cell_type": "code",
      "execution_count": 61,
      "metadata": {
        "colab": {
          "base_uri": "https://localhost:8080/"
        },
        "id": "rQgiJq9lP446",
        "outputId": "7225f362-c52f-47e2-d429-1a8047223a3b"
      },
      "outputs": [
        {
          "output_type": "execute_result",
          "data": {
            "text/plain": [
              "Label\n",
              "BENIGN                      1720\n",
              "DoS Hulk                     120\n",
              "DDoS                         109\n",
              "PortScan                      23\n",
              "FTP-Patator                    8\n",
              "DoS GoldenEye                  7\n",
              "DoS Slowhttptest               5\n",
              "Web Attack  Brute Force       4\n",
              "DoS slowloris                  3\n",
              "SSH-Patator                    1\n",
              "Name: count, dtype: int64"
            ]
          },
          "metadata": {},
          "execution_count": 61
        }
      ],
      "source": [
        "difficult[\"Label\"].value_counts()"
      ]
    },
    {
      "cell_type": "code",
      "execution_count": 62,
      "metadata": {
        "colab": {
          "base_uri": "https://localhost:8080/"
        },
        "id": "L7mFQ6WSP6hX",
        "outputId": "719911e2-a55d-4dac-81c4-05e9ba05dd64"
      },
      "outputs": [
        {
          "output_type": "execute_result",
          "data": {
            "text/plain": [
              "Label\n",
              "BENIGN                      16818\n",
              "DoS Hulk                     1436\n",
              "DDoS                          978\n",
              "PortScan                      206\n",
              "DoS GoldenEye                  74\n",
              "FTP-Patator                    52\n",
              "DoS slowloris                  44\n",
              "DoS Slowhttptest               36\n",
              "SSH-Patator                    35\n",
              "Web Attack  Brute Force       17\n",
              "Bot                             9\n",
              "Web Attack  XSS                4\n",
              "Name: count, dtype: int64"
            ]
          },
          "metadata": {},
          "execution_count": 62
        }
      ],
      "source": [
        "easy[\"Label\"].value_counts()"
      ]
    },
    {
      "cell_type": "code",
      "execution_count": 63,
      "metadata": {
        "id": "Ws0ZXueT0eDI"
      },
      "outputs": [],
      "source": [
        "# Use KMeans to compress majority samples in the difficult set\n",
        "kmeans = KMeans(n_clusters=100)\n",
        "kmeans.fit(difficult.drop(columns=['Label']))\n",
        "compressed = pd.DataFrame(kmeans.cluster_centers_, columns=difficult.columns[:-1])\n",
        "compressed['Label'] = 'BENIGN'"
      ]
    },
    {
      "cell_type": "code",
      "execution_count": 64,
      "metadata": {
        "id": "Oz_iszIV0e_J"
      },
      "outputs": [],
      "source": [
        "# Generate synthetic minority samples in the difficult set\n",
        "difficult_min = difficult[difficult['Label'].isin(minority_class)]\n",
        "difficult_max = difficult[difficult['Label'] == 'BENIGN']\n",
        "difficult_range = difficult_max - difficult_min\n",
        "difficult_samples = pd.DataFrame()"
      ]
    },
    {
      "cell_type": "code",
      "execution_count": 65,
      "metadata": {
        "id": "PR4beoZE0hsE"
      },
      "outputs": [],
      "source": [
        "for i in range(10):\n",
        "  r = pd.DataFrame(columns=difficult_min.columns[:-1])\n",
        "  random_values = np.random.rand(difficult_min.shape[1]-1)\n",
        "  r.loc[0] = random_values\n",
        "  dm = difficult_min.iloc[:,:-1]\n",
        "  sample = dm.add(r, fill_value=0)\n",
        "  sample['Label'] = minority_class[np.random.randint(0, len(minority_class))]\n",
        "  difficult_samples = pd.concat([difficult_samples, sample], ignore_index=True)"
      ]
    },
    {
      "cell_type": "code",
      "execution_count": 66,
      "metadata": {
        "id": "gW4JtWEf0j0a"
      },
      "outputs": [],
      "source": [
        "new_train_set = pd.concat([easy, compressed, difficult_min, difficult_samples])\n",
        "df2 = new_train_set.sample(frac=1).reset_index(drop=True)"
      ]
    },
    {
      "cell_type": "code",
      "execution_count": 67,
      "metadata": {
        "colab": {
          "base_uri": "https://localhost:8080/",
          "height": 530
        },
        "id": "xLqWLOa00syL",
        "outputId": "3d48fd41-ce6e-47df-e754-a18943fc2e49"
      },
      "outputs": [
        {
          "output_type": "execute_result",
          "data": {
            "text/plain": [
              "       Protocol  Flow Duration  Total Fwd Packets  Total Backward Packets  \\\n",
              "0          17.0        47406.0                2.0                     2.0   \n",
              "1           6.0      3240855.0                6.0                     7.0   \n",
              "2           6.0            2.0                2.0                     0.0   \n",
              "3          17.0        92322.0                1.0                     1.0   \n",
              "4          17.0        31454.0                2.0                     2.0   \n",
              "...         ...            ...                ...                     ...   \n",
              "19814      17.0          322.0                2.0                     2.0   \n",
              "19815       6.0    100483750.0                6.0                     6.0   \n",
              "19816      17.0        30518.0                1.0                     1.0   \n",
              "19817       6.0        12765.0                2.0                     2.0   \n",
              "19818       6.0       149020.0               10.0                     7.0   \n",
              "\n",
              "       Total Length of Fwd Packets  Total Length of Bwd Packets  Flow Bytes/s  \\\n",
              "0                             90.0                        162.0  5.315783e+03   \n",
              "1                            877.0                       3157.0  1.244733e+03   \n",
              "2                             12.0                          0.0  6.000000e+06   \n",
              "3                             45.0                        214.0  2.805398e+03   \n",
              "4                             64.0                        226.0  9.219813e+03   \n",
              "...                            ...                          ...           ...   \n",
              "19814                         74.0                        198.0  8.447205e+05   \n",
              "19815                        321.0                      11595.0  1.185863e+02   \n",
              "19816                         55.0                         83.0  4.521921e+03   \n",
              "19817                         12.0                          0.0  9.400705e+02   \n",
              "19818                        551.0                       4507.0  3.394175e+04   \n",
              "\n",
              "       Flow Packets/s  Fwd IAT Total  Bwd IAT Total  ...  \\\n",
              "0           84.377505            4.0           48.0  ...   \n",
              "1            4.011287       434489.0      3188885.0  ...   \n",
              "2      1000000.000000            2.0            0.0  ...   \n",
              "3           21.663309            0.0            0.0  ...   \n",
              "4          127.169835            4.0            3.0  ...   \n",
              "...               ...            ...            ...  ...   \n",
              "19814    12422.360250            1.0           49.0  ...   \n",
              "19815        0.119422    100000000.0        36547.0  ...   \n",
              "19816       65.535094            0.0            0.0  ...   \n",
              "19817      313.356835          483.0        12717.0  ...   \n",
              "19818      114.078647       149020.0        91370.0  ...   \n",
              "\n",
              "       Avg Bwd Segment Size  Subflow Fwd Packets  Subflow Fwd Bytes  \\\n",
              "0                 81.000000                  2.0               90.0   \n",
              "1                451.000000                  6.0              877.0   \n",
              "2                  0.000000                  2.0               12.0   \n",
              "3                214.000000                  1.0               45.0   \n",
              "4                113.000000                  2.0               64.0   \n",
              "...                     ...                  ...                ...   \n",
              "19814             99.000000                  2.0               74.0   \n",
              "19815           1932.500000                  6.0              321.0   \n",
              "19816             83.000000                  1.0               55.0   \n",
              "19817              0.000000                  2.0               12.0   \n",
              "19818            643.857143                 10.0              551.0   \n",
              "\n",
              "       Subflow Bwd Packets  Subflow Bwd Bytes  Init_Win_bytes_forward  \\\n",
              "0                      2.0              162.0                    -1.0   \n",
              "1                      7.0             3157.0                  8192.0   \n",
              "2                      0.0                0.0                   360.0   \n",
              "3                      1.0              214.0                    -1.0   \n",
              "4                      2.0              226.0                    -1.0   \n",
              "...                    ...                ...                     ...   \n",
              "19814                  2.0              198.0                    -1.0   \n",
              "19815                  6.0            11595.0                   274.0   \n",
              "19816                  1.0               83.0                    -1.0   \n",
              "19817                  2.0                0.0                     0.0   \n",
              "19818                  7.0             4507.0                  8192.0   \n",
              "\n",
              "       Init_Win_bytes_backward  act_data_pkt_fwd  min_seg_size_forward  \\\n",
              "0                         -1.0               1.0                  20.0   \n",
              "1                         17.0               5.0                  20.0   \n",
              "2                         -1.0               1.0                  20.0   \n",
              "3                         -1.0               0.0                  20.0   \n",
              "4                         -1.0               1.0                  32.0   \n",
              "...                        ...               ...                   ...   \n",
              "19814                     -1.0               1.0                  32.0   \n",
              "19815                    235.0               1.0                  32.0   \n",
              "19816                     -1.0               0.0                  32.0   \n",
              "19817                    235.0               1.0                  20.0   \n",
              "19818                    343.0               9.0                  20.0   \n",
              "\n",
              "          Label  \n",
              "0        BENIGN  \n",
              "1        BENIGN  \n",
              "2        BENIGN  \n",
              "3        BENIGN  \n",
              "4        BENIGN  \n",
              "...         ...  \n",
              "19814    BENIGN  \n",
              "19815  DoS Hulk  \n",
              "19816    BENIGN  \n",
              "19817  DoS Hulk  \n",
              "19818    BENIGN  \n",
              "\n",
              "[19819 rows x 39 columns]"
            ],
            "text/html": [
              "\n",
              "  <div id=\"df-74a133ae-bdce-45d4-9eff-fe646d8b9900\" class=\"colab-df-container\">\n",
              "    <div>\n",
              "<style scoped>\n",
              "    .dataframe tbody tr th:only-of-type {\n",
              "        vertical-align: middle;\n",
              "    }\n",
              "\n",
              "    .dataframe tbody tr th {\n",
              "        vertical-align: top;\n",
              "    }\n",
              "\n",
              "    .dataframe thead th {\n",
              "        text-align: right;\n",
              "    }\n",
              "</style>\n",
              "<table border=\"1\" class=\"dataframe\">\n",
              "  <thead>\n",
              "    <tr style=\"text-align: right;\">\n",
              "      <th></th>\n",
              "      <th>Protocol</th>\n",
              "      <th>Flow Duration</th>\n",
              "      <th>Total Fwd Packets</th>\n",
              "      <th>Total Backward Packets</th>\n",
              "      <th>Total Length of Fwd Packets</th>\n",
              "      <th>Total Length of Bwd Packets</th>\n",
              "      <th>Flow Bytes/s</th>\n",
              "      <th>Flow Packets/s</th>\n",
              "      <th>Fwd IAT Total</th>\n",
              "      <th>Bwd IAT Total</th>\n",
              "      <th>...</th>\n",
              "      <th>Avg Bwd Segment Size</th>\n",
              "      <th>Subflow Fwd Packets</th>\n",
              "      <th>Subflow Fwd Bytes</th>\n",
              "      <th>Subflow Bwd Packets</th>\n",
              "      <th>Subflow Bwd Bytes</th>\n",
              "      <th>Init_Win_bytes_forward</th>\n",
              "      <th>Init_Win_bytes_backward</th>\n",
              "      <th>act_data_pkt_fwd</th>\n",
              "      <th>min_seg_size_forward</th>\n",
              "      <th>Label</th>\n",
              "    </tr>\n",
              "  </thead>\n",
              "  <tbody>\n",
              "    <tr>\n",
              "      <th>0</th>\n",
              "      <td>17.0</td>\n",
              "      <td>47406.0</td>\n",
              "      <td>2.0</td>\n",
              "      <td>2.0</td>\n",
              "      <td>90.0</td>\n",
              "      <td>162.0</td>\n",
              "      <td>5.315783e+03</td>\n",
              "      <td>84.377505</td>\n",
              "      <td>4.0</td>\n",
              "      <td>48.0</td>\n",
              "      <td>...</td>\n",
              "      <td>81.000000</td>\n",
              "      <td>2.0</td>\n",
              "      <td>90.0</td>\n",
              "      <td>2.0</td>\n",
              "      <td>162.0</td>\n",
              "      <td>-1.0</td>\n",
              "      <td>-1.0</td>\n",
              "      <td>1.0</td>\n",
              "      <td>20.0</td>\n",
              "      <td>BENIGN</td>\n",
              "    </tr>\n",
              "    <tr>\n",
              "      <th>1</th>\n",
              "      <td>6.0</td>\n",
              "      <td>3240855.0</td>\n",
              "      <td>6.0</td>\n",
              "      <td>7.0</td>\n",
              "      <td>877.0</td>\n",
              "      <td>3157.0</td>\n",
              "      <td>1.244733e+03</td>\n",
              "      <td>4.011287</td>\n",
              "      <td>434489.0</td>\n",
              "      <td>3188885.0</td>\n",
              "      <td>...</td>\n",
              "      <td>451.000000</td>\n",
              "      <td>6.0</td>\n",
              "      <td>877.0</td>\n",
              "      <td>7.0</td>\n",
              "      <td>3157.0</td>\n",
              "      <td>8192.0</td>\n",
              "      <td>17.0</td>\n",
              "      <td>5.0</td>\n",
              "      <td>20.0</td>\n",
              "      <td>BENIGN</td>\n",
              "    </tr>\n",
              "    <tr>\n",
              "      <th>2</th>\n",
              "      <td>6.0</td>\n",
              "      <td>2.0</td>\n",
              "      <td>2.0</td>\n",
              "      <td>0.0</td>\n",
              "      <td>12.0</td>\n",
              "      <td>0.0</td>\n",
              "      <td>6.000000e+06</td>\n",
              "      <td>1000000.000000</td>\n",
              "      <td>2.0</td>\n",
              "      <td>0.0</td>\n",
              "      <td>...</td>\n",
              "      <td>0.000000</td>\n",
              "      <td>2.0</td>\n",
              "      <td>12.0</td>\n",
              "      <td>0.0</td>\n",
              "      <td>0.0</td>\n",
              "      <td>360.0</td>\n",
              "      <td>-1.0</td>\n",
              "      <td>1.0</td>\n",
              "      <td>20.0</td>\n",
              "      <td>BENIGN</td>\n",
              "    </tr>\n",
              "    <tr>\n",
              "      <th>3</th>\n",
              "      <td>17.0</td>\n",
              "      <td>92322.0</td>\n",
              "      <td>1.0</td>\n",
              "      <td>1.0</td>\n",
              "      <td>45.0</td>\n",
              "      <td>214.0</td>\n",
              "      <td>2.805398e+03</td>\n",
              "      <td>21.663309</td>\n",
              "      <td>0.0</td>\n",
              "      <td>0.0</td>\n",
              "      <td>...</td>\n",
              "      <td>214.000000</td>\n",
              "      <td>1.0</td>\n",
              "      <td>45.0</td>\n",
              "      <td>1.0</td>\n",
              "      <td>214.0</td>\n",
              "      <td>-1.0</td>\n",
              "      <td>-1.0</td>\n",
              "      <td>0.0</td>\n",
              "      <td>20.0</td>\n",
              "      <td>BENIGN</td>\n",
              "    </tr>\n",
              "    <tr>\n",
              "      <th>4</th>\n",
              "      <td>17.0</td>\n",
              "      <td>31454.0</td>\n",
              "      <td>2.0</td>\n",
              "      <td>2.0</td>\n",
              "      <td>64.0</td>\n",
              "      <td>226.0</td>\n",
              "      <td>9.219813e+03</td>\n",
              "      <td>127.169835</td>\n",
              "      <td>4.0</td>\n",
              "      <td>3.0</td>\n",
              "      <td>...</td>\n",
              "      <td>113.000000</td>\n",
              "      <td>2.0</td>\n",
              "      <td>64.0</td>\n",
              "      <td>2.0</td>\n",
              "      <td>226.0</td>\n",
              "      <td>-1.0</td>\n",
              "      <td>-1.0</td>\n",
              "      <td>1.0</td>\n",
              "      <td>32.0</td>\n",
              "      <td>BENIGN</td>\n",
              "    </tr>\n",
              "    <tr>\n",
              "      <th>...</th>\n",
              "      <td>...</td>\n",
              "      <td>...</td>\n",
              "      <td>...</td>\n",
              "      <td>...</td>\n",
              "      <td>...</td>\n",
              "      <td>...</td>\n",
              "      <td>...</td>\n",
              "      <td>...</td>\n",
              "      <td>...</td>\n",
              "      <td>...</td>\n",
              "      <td>...</td>\n",
              "      <td>...</td>\n",
              "      <td>...</td>\n",
              "      <td>...</td>\n",
              "      <td>...</td>\n",
              "      <td>...</td>\n",
              "      <td>...</td>\n",
              "      <td>...</td>\n",
              "      <td>...</td>\n",
              "      <td>...</td>\n",
              "      <td>...</td>\n",
              "    </tr>\n",
              "    <tr>\n",
              "      <th>19814</th>\n",
              "      <td>17.0</td>\n",
              "      <td>322.0</td>\n",
              "      <td>2.0</td>\n",
              "      <td>2.0</td>\n",
              "      <td>74.0</td>\n",
              "      <td>198.0</td>\n",
              "      <td>8.447205e+05</td>\n",
              "      <td>12422.360250</td>\n",
              "      <td>1.0</td>\n",
              "      <td>49.0</td>\n",
              "      <td>...</td>\n",
              "      <td>99.000000</td>\n",
              "      <td>2.0</td>\n",
              "      <td>74.0</td>\n",
              "      <td>2.0</td>\n",
              "      <td>198.0</td>\n",
              "      <td>-1.0</td>\n",
              "      <td>-1.0</td>\n",
              "      <td>1.0</td>\n",
              "      <td>32.0</td>\n",
              "      <td>BENIGN</td>\n",
              "    </tr>\n",
              "    <tr>\n",
              "      <th>19815</th>\n",
              "      <td>6.0</td>\n",
              "      <td>100483750.0</td>\n",
              "      <td>6.0</td>\n",
              "      <td>6.0</td>\n",
              "      <td>321.0</td>\n",
              "      <td>11595.0</td>\n",
              "      <td>1.185863e+02</td>\n",
              "      <td>0.119422</td>\n",
              "      <td>100000000.0</td>\n",
              "      <td>36547.0</td>\n",
              "      <td>...</td>\n",
              "      <td>1932.500000</td>\n",
              "      <td>6.0</td>\n",
              "      <td>321.0</td>\n",
              "      <td>6.0</td>\n",
              "      <td>11595.0</td>\n",
              "      <td>274.0</td>\n",
              "      <td>235.0</td>\n",
              "      <td>1.0</td>\n",
              "      <td>32.0</td>\n",
              "      <td>DoS Hulk</td>\n",
              "    </tr>\n",
              "    <tr>\n",
              "      <th>19816</th>\n",
              "      <td>17.0</td>\n",
              "      <td>30518.0</td>\n",
              "      <td>1.0</td>\n",
              "      <td>1.0</td>\n",
              "      <td>55.0</td>\n",
              "      <td>83.0</td>\n",
              "      <td>4.521921e+03</td>\n",
              "      <td>65.535094</td>\n",
              "      <td>0.0</td>\n",
              "      <td>0.0</td>\n",
              "      <td>...</td>\n",
              "      <td>83.000000</td>\n",
              "      <td>1.0</td>\n",
              "      <td>55.0</td>\n",
              "      <td>1.0</td>\n",
              "      <td>83.0</td>\n",
              "      <td>-1.0</td>\n",
              "      <td>-1.0</td>\n",
              "      <td>0.0</td>\n",
              "      <td>32.0</td>\n",
              "      <td>BENIGN</td>\n",
              "    </tr>\n",
              "    <tr>\n",
              "      <th>19817</th>\n",
              "      <td>6.0</td>\n",
              "      <td>12765.0</td>\n",
              "      <td>2.0</td>\n",
              "      <td>2.0</td>\n",
              "      <td>12.0</td>\n",
              "      <td>0.0</td>\n",
              "      <td>9.400705e+02</td>\n",
              "      <td>313.356835</td>\n",
              "      <td>483.0</td>\n",
              "      <td>12717.0</td>\n",
              "      <td>...</td>\n",
              "      <td>0.000000</td>\n",
              "      <td>2.0</td>\n",
              "      <td>12.0</td>\n",
              "      <td>2.0</td>\n",
              "      <td>0.0</td>\n",
              "      <td>0.0</td>\n",
              "      <td>235.0</td>\n",
              "      <td>1.0</td>\n",
              "      <td>20.0</td>\n",
              "      <td>DoS Hulk</td>\n",
              "    </tr>\n",
              "    <tr>\n",
              "      <th>19818</th>\n",
              "      <td>6.0</td>\n",
              "      <td>149020.0</td>\n",
              "      <td>10.0</td>\n",
              "      <td>7.0</td>\n",
              "      <td>551.0</td>\n",
              "      <td>4507.0</td>\n",
              "      <td>3.394175e+04</td>\n",
              "      <td>114.078647</td>\n",
              "      <td>149020.0</td>\n",
              "      <td>91370.0</td>\n",
              "      <td>...</td>\n",
              "      <td>643.857143</td>\n",
              "      <td>10.0</td>\n",
              "      <td>551.0</td>\n",
              "      <td>7.0</td>\n",
              "      <td>4507.0</td>\n",
              "      <td>8192.0</td>\n",
              "      <td>343.0</td>\n",
              "      <td>9.0</td>\n",
              "      <td>20.0</td>\n",
              "      <td>BENIGN</td>\n",
              "    </tr>\n",
              "  </tbody>\n",
              "</table>\n",
              "<p>19819 rows × 39 columns</p>\n",
              "</div>\n",
              "    <div class=\"colab-df-buttons\">\n",
              "\n",
              "  <div class=\"colab-df-container\">\n",
              "    <button class=\"colab-df-convert\" onclick=\"convertToInteractive('df-74a133ae-bdce-45d4-9eff-fe646d8b9900')\"\n",
              "            title=\"Convert this dataframe to an interactive table.\"\n",
              "            style=\"display:none;\">\n",
              "\n",
              "  <svg xmlns=\"http://www.w3.org/2000/svg\" height=\"24px\" viewBox=\"0 -960 960 960\">\n",
              "    <path d=\"M120-120v-720h720v720H120Zm60-500h600v-160H180v160Zm220 220h160v-160H400v160Zm0 220h160v-160H400v160ZM180-400h160v-160H180v160Zm440 0h160v-160H620v160ZM180-180h160v-160H180v160Zm440 0h160v-160H620v160Z\"/>\n",
              "  </svg>\n",
              "    </button>\n",
              "\n",
              "  <style>\n",
              "    .colab-df-container {\n",
              "      display:flex;\n",
              "      gap: 12px;\n",
              "    }\n",
              "\n",
              "    .colab-df-convert {\n",
              "      background-color: #E8F0FE;\n",
              "      border: none;\n",
              "      border-radius: 50%;\n",
              "      cursor: pointer;\n",
              "      display: none;\n",
              "      fill: #1967D2;\n",
              "      height: 32px;\n",
              "      padding: 0 0 0 0;\n",
              "      width: 32px;\n",
              "    }\n",
              "\n",
              "    .colab-df-convert:hover {\n",
              "      background-color: #E2EBFA;\n",
              "      box-shadow: 0px 1px 2px rgba(60, 64, 67, 0.3), 0px 1px 3px 1px rgba(60, 64, 67, 0.15);\n",
              "      fill: #174EA6;\n",
              "    }\n",
              "\n",
              "    .colab-df-buttons div {\n",
              "      margin-bottom: 4px;\n",
              "    }\n",
              "\n",
              "    [theme=dark] .colab-df-convert {\n",
              "      background-color: #3B4455;\n",
              "      fill: #D2E3FC;\n",
              "    }\n",
              "\n",
              "    [theme=dark] .colab-df-convert:hover {\n",
              "      background-color: #434B5C;\n",
              "      box-shadow: 0px 1px 3px 1px rgba(0, 0, 0, 0.15);\n",
              "      filter: drop-shadow(0px 1px 2px rgba(0, 0, 0, 0.3));\n",
              "      fill: #FFFFFF;\n",
              "    }\n",
              "  </style>\n",
              "\n",
              "    <script>\n",
              "      const buttonEl =\n",
              "        document.querySelector('#df-74a133ae-bdce-45d4-9eff-fe646d8b9900 button.colab-df-convert');\n",
              "      buttonEl.style.display =\n",
              "        google.colab.kernel.accessAllowed ? 'block' : 'none';\n",
              "\n",
              "      async function convertToInteractive(key) {\n",
              "        const element = document.querySelector('#df-74a133ae-bdce-45d4-9eff-fe646d8b9900');\n",
              "        const dataTable =\n",
              "          await google.colab.kernel.invokeFunction('convertToInteractive',\n",
              "                                                    [key], {});\n",
              "        if (!dataTable) return;\n",
              "\n",
              "        const docLinkHtml = 'Like what you see? Visit the ' +\n",
              "          '<a target=\"_blank\" href=https://colab.research.google.com/notebooks/data_table.ipynb>data table notebook</a>'\n",
              "          + ' to learn more about interactive tables.';\n",
              "        element.innerHTML = '';\n",
              "        dataTable['output_type'] = 'display_data';\n",
              "        await google.colab.output.renderOutput(dataTable, element);\n",
              "        const docLink = document.createElement('div');\n",
              "        docLink.innerHTML = docLinkHtml;\n",
              "        element.appendChild(docLink);\n",
              "      }\n",
              "    </script>\n",
              "  </div>\n",
              "\n",
              "\n",
              "<div id=\"df-6268fe18-1cab-4579-a905-531f3854d12e\">\n",
              "  <button class=\"colab-df-quickchart\" onclick=\"quickchart('df-6268fe18-1cab-4579-a905-531f3854d12e')\"\n",
              "            title=\"Suggest charts\"\n",
              "            style=\"display:none;\">\n",
              "\n",
              "<svg xmlns=\"http://www.w3.org/2000/svg\" height=\"24px\"viewBox=\"0 0 24 24\"\n",
              "     width=\"24px\">\n",
              "    <g>\n",
              "        <path d=\"M19 3H5c-1.1 0-2 .9-2 2v14c0 1.1.9 2 2 2h14c1.1 0 2-.9 2-2V5c0-1.1-.9-2-2-2zM9 17H7v-7h2v7zm4 0h-2V7h2v10zm4 0h-2v-4h2v4z\"/>\n",
              "    </g>\n",
              "</svg>\n",
              "  </button>\n",
              "\n",
              "<style>\n",
              "  .colab-df-quickchart {\n",
              "      --bg-color: #E8F0FE;\n",
              "      --fill-color: #1967D2;\n",
              "      --hover-bg-color: #E2EBFA;\n",
              "      --hover-fill-color: #174EA6;\n",
              "      --disabled-fill-color: #AAA;\n",
              "      --disabled-bg-color: #DDD;\n",
              "  }\n",
              "\n",
              "  [theme=dark] .colab-df-quickchart {\n",
              "      --bg-color: #3B4455;\n",
              "      --fill-color: #D2E3FC;\n",
              "      --hover-bg-color: #434B5C;\n",
              "      --hover-fill-color: #FFFFFF;\n",
              "      --disabled-bg-color: #3B4455;\n",
              "      --disabled-fill-color: #666;\n",
              "  }\n",
              "\n",
              "  .colab-df-quickchart {\n",
              "    background-color: var(--bg-color);\n",
              "    border: none;\n",
              "    border-radius: 50%;\n",
              "    cursor: pointer;\n",
              "    display: none;\n",
              "    fill: var(--fill-color);\n",
              "    height: 32px;\n",
              "    padding: 0;\n",
              "    width: 32px;\n",
              "  }\n",
              "\n",
              "  .colab-df-quickchart:hover {\n",
              "    background-color: var(--hover-bg-color);\n",
              "    box-shadow: 0 1px 2px rgba(60, 64, 67, 0.3), 0 1px 3px 1px rgba(60, 64, 67, 0.15);\n",
              "    fill: var(--button-hover-fill-color);\n",
              "  }\n",
              "\n",
              "  .colab-df-quickchart-complete:disabled,\n",
              "  .colab-df-quickchart-complete:disabled:hover {\n",
              "    background-color: var(--disabled-bg-color);\n",
              "    fill: var(--disabled-fill-color);\n",
              "    box-shadow: none;\n",
              "  }\n",
              "\n",
              "  .colab-df-spinner {\n",
              "    border: 2px solid var(--fill-color);\n",
              "    border-color: transparent;\n",
              "    border-bottom-color: var(--fill-color);\n",
              "    animation:\n",
              "      spin 1s steps(1) infinite;\n",
              "  }\n",
              "\n",
              "  @keyframes spin {\n",
              "    0% {\n",
              "      border-color: transparent;\n",
              "      border-bottom-color: var(--fill-color);\n",
              "      border-left-color: var(--fill-color);\n",
              "    }\n",
              "    20% {\n",
              "      border-color: transparent;\n",
              "      border-left-color: var(--fill-color);\n",
              "      border-top-color: var(--fill-color);\n",
              "    }\n",
              "    30% {\n",
              "      border-color: transparent;\n",
              "      border-left-color: var(--fill-color);\n",
              "      border-top-color: var(--fill-color);\n",
              "      border-right-color: var(--fill-color);\n",
              "    }\n",
              "    40% {\n",
              "      border-color: transparent;\n",
              "      border-right-color: var(--fill-color);\n",
              "      border-top-color: var(--fill-color);\n",
              "    }\n",
              "    60% {\n",
              "      border-color: transparent;\n",
              "      border-right-color: var(--fill-color);\n",
              "    }\n",
              "    80% {\n",
              "      border-color: transparent;\n",
              "      border-right-color: var(--fill-color);\n",
              "      border-bottom-color: var(--fill-color);\n",
              "    }\n",
              "    90% {\n",
              "      border-color: transparent;\n",
              "      border-bottom-color: var(--fill-color);\n",
              "    }\n",
              "  }\n",
              "</style>\n",
              "\n",
              "  <script>\n",
              "    async function quickchart(key) {\n",
              "      const quickchartButtonEl =\n",
              "        document.querySelector('#' + key + ' button');\n",
              "      quickchartButtonEl.disabled = true;  // To prevent multiple clicks.\n",
              "      quickchartButtonEl.classList.add('colab-df-spinner');\n",
              "      try {\n",
              "        const charts = await google.colab.kernel.invokeFunction(\n",
              "            'suggestCharts', [key], {});\n",
              "      } catch (error) {\n",
              "        console.error('Error during call to suggestCharts:', error);\n",
              "      }\n",
              "      quickchartButtonEl.classList.remove('colab-df-spinner');\n",
              "      quickchartButtonEl.classList.add('colab-df-quickchart-complete');\n",
              "    }\n",
              "    (() => {\n",
              "      let quickchartButtonEl =\n",
              "        document.querySelector('#df-6268fe18-1cab-4579-a905-531f3854d12e button');\n",
              "      quickchartButtonEl.style.display =\n",
              "        google.colab.kernel.accessAllowed ? 'block' : 'none';\n",
              "    })();\n",
              "  </script>\n",
              "</div>\n",
              "\n",
              "  <div id=\"id_ca520a2a-2bee-4fef-8a23-b39a92b7739e\">\n",
              "    <style>\n",
              "      .colab-df-generate {\n",
              "        background-color: #E8F0FE;\n",
              "        border: none;\n",
              "        border-radius: 50%;\n",
              "        cursor: pointer;\n",
              "        display: none;\n",
              "        fill: #1967D2;\n",
              "        height: 32px;\n",
              "        padding: 0 0 0 0;\n",
              "        width: 32px;\n",
              "      }\n",
              "\n",
              "      .colab-df-generate:hover {\n",
              "        background-color: #E2EBFA;\n",
              "        box-shadow: 0px 1px 2px rgba(60, 64, 67, 0.3), 0px 1px 3px 1px rgba(60, 64, 67, 0.15);\n",
              "        fill: #174EA6;\n",
              "      }\n",
              "\n",
              "      [theme=dark] .colab-df-generate {\n",
              "        background-color: #3B4455;\n",
              "        fill: #D2E3FC;\n",
              "      }\n",
              "\n",
              "      [theme=dark] .colab-df-generate:hover {\n",
              "        background-color: #434B5C;\n",
              "        box-shadow: 0px 1px 3px 1px rgba(0, 0, 0, 0.15);\n",
              "        filter: drop-shadow(0px 1px 2px rgba(0, 0, 0, 0.3));\n",
              "        fill: #FFFFFF;\n",
              "      }\n",
              "    </style>\n",
              "    <button class=\"colab-df-generate\" onclick=\"generateWithVariable('df2')\"\n",
              "            title=\"Generate code using this dataframe.\"\n",
              "            style=\"display:none;\">\n",
              "\n",
              "  <svg xmlns=\"http://www.w3.org/2000/svg\" height=\"24px\"viewBox=\"0 0 24 24\"\n",
              "       width=\"24px\">\n",
              "    <path d=\"M7,19H8.4L18.45,9,17,7.55,7,17.6ZM5,21V16.75L18.45,3.32a2,2,0,0,1,2.83,0l1.4,1.43a1.91,1.91,0,0,1,.58,1.4,1.91,1.91,0,0,1-.58,1.4L9.25,21ZM18.45,9,17,7.55Zm-12,3A5.31,5.31,0,0,0,4.9,8.1,5.31,5.31,0,0,0,1,6.5,5.31,5.31,0,0,0,4.9,4.9,5.31,5.31,0,0,0,6.5,1,5.31,5.31,0,0,0,8.1,4.9,5.31,5.31,0,0,0,12,6.5,5.46,5.46,0,0,0,6.5,12Z\"/>\n",
              "  </svg>\n",
              "    </button>\n",
              "    <script>\n",
              "      (() => {\n",
              "      const buttonEl =\n",
              "        document.querySelector('#id_ca520a2a-2bee-4fef-8a23-b39a92b7739e button.colab-df-generate');\n",
              "      buttonEl.style.display =\n",
              "        google.colab.kernel.accessAllowed ? 'block' : 'none';\n",
              "\n",
              "      buttonEl.onclick = () => {\n",
              "        google.colab.notebook.generateWithVariable('df2');\n",
              "      }\n",
              "      })();\n",
              "    </script>\n",
              "  </div>\n",
              "\n",
              "    </div>\n",
              "  </div>\n"
            ],
            "application/vnd.google.colaboratory.intrinsic+json": {
              "type": "dataframe",
              "variable_name": "df2"
            }
          },
          "metadata": {},
          "execution_count": 67
        }
      ],
      "source": [
        "df2"
      ]
    },
    {
      "cell_type": "code",
      "execution_count": 68,
      "metadata": {
        "colab": {
          "base_uri": "https://localhost:8080/"
        },
        "id": "lUu8fJNL0qEF",
        "outputId": "ef1019ca-9d43-4b9f-85c3-e2e95c0af5cb"
      },
      "outputs": [
        {
          "output_type": "execute_result",
          "data": {
            "text/plain": [
              "Label\n",
              "BENIGN                        16918\n",
              "DoS Hulk                       1436\n",
              "DDoS                            978\n",
              "PortScan                        206\n",
              "DoS GoldenEye                    74\n",
              "FTP-Patator                      52\n",
              "DoS slowloris                    44\n",
              "DoS Slowhttptest                 36\n",
              "SSH-Patator                      35\n",
              "Web Attack  Brute Force         17\n",
              "Bot                               9\n",
              "Web Attack  XSS                  7\n",
              "Web Attack  Sql Injection        5\n",
              "Infiltration                      2\n",
              "Name: count, dtype: int64"
            ]
          },
          "metadata": {},
          "execution_count": 68
        }
      ],
      "source": [
        "df2[\"Label\"].value_counts()"
      ]
    },
    {
      "cell_type": "code",
      "execution_count": 69,
      "metadata": {
        "id": "AecBfu_PI9QX"
      },
      "outputs": [],
      "source": [
        "X_train, X_test, y_train, y_test = train_test_split(df2.iloc[:,:-1], df2.iloc[:,-1], test_size=0.3, random_state=42)"
      ]
    },
    {
      "cell_type": "code",
      "execution_count": 70,
      "metadata": {
        "id": "DpCRi7VdJAOa"
      },
      "outputs": [],
      "source": [
        "to_remove = [x for x in y_test.unique() if x not in y_train.unique()]\n",
        "rows_to_remove = y_test.isin(to_remove)\n",
        "\n",
        "y_test = y_test[~rows_to_remove]\n",
        "X_test = X_test[~rows_to_remove]"
      ]
    },
    {
      "cell_type": "code",
      "execution_count": 71,
      "metadata": {
        "colab": {
          "base_uri": "https://localhost:8080/"
        },
        "id": "3O0EI6hwJvZh",
        "outputId": "58907528-4f86-4fa1-fd33-4491a9586a48"
      },
      "outputs": [
        {
          "output_type": "execute_result",
          "data": {
            "text/plain": [
              "(13873, 38)"
            ]
          },
          "metadata": {},
          "execution_count": 71
        }
      ],
      "source": [
        "X_train.shape"
      ]
    },
    {
      "cell_type": "code",
      "execution_count": 72,
      "metadata": {
        "id": "SQmt5-eqJBfs"
      },
      "outputs": [],
      "source": [
        "from sklearn.preprocessing import StandardScaler\n",
        "\n",
        "scaler = StandardScaler()\n",
        "\n",
        "X_train1 = X_train\n",
        "X_test1 = X_test\n",
        "\n",
        "X_train = scaler.fit_transform(X_train)\n",
        "X_test = scaler.transform(X_test)"
      ]
    },
    {
      "cell_type": "code",
      "execution_count": 73,
      "metadata": {
        "id": "CCe9IrCHLemz"
      },
      "outputs": [],
      "source": [
        "from sklearn.preprocessing import LabelEncoder\n",
        "\n",
        "le = LabelEncoder()\n",
        "y_train_encoded = le.fit_transform(y_train)\n",
        "y_test_encoded = le.transform(y_test)"
      ]
    },
    {
      "cell_type": "code",
      "execution_count": 74,
      "metadata": {
        "id": "Cyr7t-VTaZom"
      },
      "outputs": [],
      "source": [
        "unique_labels = le.transform(df2['Label'].unique())"
      ]
    },
    {
      "cell_type": "code",
      "execution_count": 75,
      "metadata": {
        "colab": {
          "base_uri": "https://localhost:8080/"
        },
        "id": "EvG8ReLVI4Y7",
        "outputId": "38575b2a-e778-43c3-83a4-918e3c15521a"
      },
      "outputs": [
        {
          "output_type": "stream",
          "name": "stdout",
          "text": [
            "Accuracy: 98.40%\n"
          ]
        }
      ],
      "source": [
        "# Convert the training and testing data into DMatrix format\n",
        "dtrain = xgb.DMatrix(X_train, label=y_train_encoded)\n",
        "dtest = xgb.DMatrix(X_test, label=y_test_encoded)\n",
        "\n",
        "param = {'max_depth': 10, 'eta': 1}\n",
        "num_round = 10\n",
        "bst = xgb.train(param, dtrain, num_round)\n",
        "\n",
        "y_pred = bst.predict(dtest)\n",
        "y_pred = np.round(y_pred).astype(int)\n",
        "\n",
        "accuracy = accuracy_score(y_test_encoded, y_pred)\n",
        "print(\"Accuracy: %.2f%%\" % (accuracy * 100.0))"
      ]
    },
    {
      "cell_type": "code",
      "execution_count": 76,
      "metadata": {
        "colab": {
          "base_uri": "https://localhost:8080/",
          "height": 1000
        },
        "id": "gdTFPvAgcTxs",
        "outputId": "3983063a-817e-4576-ee83-e46f0593ff9f"
      },
      "outputs": [
        {
          "output_type": "display_data",
          "data": {
            "text/plain": [
              "<Figure size 1600x1200 with 2 Axes>"
            ],
            "image/png": "[encoded data removed]"
          },
          "metadata": {}
        }
      ],
      "source": [
        "cm = confusion_matrix(y_test_encoded, y_pred, labels=unique_labels)\n",
        "fig, ax = plt.subplots(figsize=(16, 12))\n",
        "sns.heatmap(cm, annot=True, cmap='Blues', xticklabels=unique_labels, yticklabels=unique_labels)\n",
        "\n",
        "plt.xlabel(\"Predicted Labels\")\n",
        "plt.ylabel(\"True Labels\")\n",
        "plt.title(\"Confusion Matrix\")\n",
        "\n",
        "plt.show()"
      ]
    },
    {
      "cell_type": "code",
      "execution_count": 77,
      "metadata": {
        "colab": {
          "base_uri": "https://localhost:8080/"
        },
        "id": "ywzAOZlELmPk",
        "outputId": "9f559606-5b57-4cf8-905f-99549097aa59"
      },
      "outputs": [
        {
          "output_type": "stream",
          "name": "stdout",
          "text": [
            "Number of unique classes in training data: 14\n",
            "Epoch 1/10\n",
            "434/434 [==============================] - 10s 10ms/step - loss: 0.5383 - accuracy: 0.9117 - val_loss: 0.1969 - val_accuracy: 0.9403\n",
            "Epoch 2/10\n",
            "434/434 [==============================] - 4s 8ms/step - loss: 0.2022 - accuracy: 0.9418 - val_loss: 0.1334 - val_accuracy: 0.9670\n",
            "Epoch 3/10\n",
            "434/434 [==============================] - 5s 12ms/step - loss: 0.1647 - accuracy: 0.9508 - val_loss: 0.1221 - val_accuracy: 0.9576\n",
            "Epoch 4/10\n",
            "434/434 [==============================] - 4s 8ms/step - loss: 0.1424 - accuracy: 0.9567 - val_loss: 0.0977 - val_accuracy: 0.9724\n",
            "Epoch 5/10\n",
            "434/434 [==============================] - 4s 9ms/step - loss: 0.1321 - accuracy: 0.9599 - val_loss: 0.0902 - val_accuracy: 0.9716\n",
            "Epoch 6/10\n",
            "434/434 [==============================] - 5s 11ms/step - loss: 0.1255 - accuracy: 0.9624 - val_loss: 0.0881 - val_accuracy: 0.9733\n",
            "Epoch 7/10\n",
            "434/434 [==============================] - 4s 9ms/step - loss: 0.1151 - accuracy: 0.9632 - val_loss: 0.0827 - val_accuracy: 0.9719\n",
            "Epoch 8/10\n",
            "434/434 [==============================] - 4s 9ms/step - loss: 0.1089 - accuracy: 0.9641 - val_loss: 0.0804 - val_accuracy: 0.9749\n",
            "Epoch 9/10\n",
            "434/434 [==============================] - 4s 10ms/step - loss: 0.1039 - accuracy: 0.9657 - val_loss: 0.0826 - val_accuracy: 0.9731\n",
            "Epoch 10/10\n",
            "434/434 [==============================] - 7s 17ms/step - loss: 0.1007 - accuracy: 0.9661 - val_loss: 0.0773 - val_accuracy: 0.9771\n",
            "186/186 [==============================] - 1s 5ms/step - loss: 0.0773 - accuracy: 0.9771\n",
            "\n",
            "\n",
            "Accuracy: 97.71%\n"
          ]
        }
      ],
      "source": [
        "X1_train = X_train.reshape((X_train.shape[0], 1, X_train.shape[1]))\n",
        "X1_test = X_test.reshape((X_test.shape[0], 1, X_test.shape[1]))\n",
        "# Check the number of unique labels in your training data\n",
        "num_classes = len(np.unique(y_train_encoded))\n",
        "print(\"Number of unique classes in training data:\", num_classes)\n",
        "\n",
        "# Modify the final layer of your model to match the correct number of classes\n",
        "model = Sequential()\n",
        "model.add(LSTM(128, input_shape=(X1_train.shape[1], X1_train.shape[2]), activation='tanh', return_sequences=True))\n",
        "model.add(Dropout(0.2))\n",
        "model.add(LSTM(64, activation='tanh'))\n",
        "model.add(Dropout(0.2))\n",
        "model.add(Dense(32, activation='LeakyReLU'))\n",
        "model.add(Dropout(0.2))\n",
        "model.add(Dense(num_classes, activation='softmax'))\n",
        "model.compile(optimizer='adam',\n",
        "              loss='sparse_categorical_crossentropy',\n",
        "              metrics=['accuracy'])\n",
        "\n",
        "model.fit(X1_train, y_train_encoded, epochs=10, validation_data=(X1_test, y_test_encoded))\n",
        "\n",
        "results = model.evaluate(X1_test,y_test_encoded)\n",
        "print(\"\\n\\nAccuracy: %.2f%%\" % (results[1]*100))"
      ]
    },
    {
      "cell_type": "code",
      "execution_count": 78,
      "metadata": {
        "id": "k9SrtmIZcvoQ",
        "colab": {
          "base_uri": "https://localhost:8080/",
          "height": 1000
        },
        "outputId": "7abcd201-4ee8-4c43-d81d-b402d065cad9"
      },
      "outputs": [
        {
          "output_type": "stream",
          "name": "stdout",
          "text": [
            "186/186 [==============================] - 1s 3ms/step\n"
          ]
        },
        {
          "output_type": "display_data",
          "data": {
            "text/plain": [
              "<Figure size 1600x1200 with 2 Axes>"
            ],
            "image/png": "[encoded data removed]"
          },
          "metadata": {}
        }
      ],
      "source": [
        "y_pred = np.argmax(model.predict(X1_test), axis=-1)\n",
        "\n",
        "cm = confusion_matrix(y_test_encoded, y_pred, labels=unique_labels)\n",
        "fig, ax = plt.subplots(figsize=(16, 12))\n",
        "sns.heatmap(cm, annot=True, cmap='Blues', xticklabels=unique_labels, yticklabels=unique_labels)\n",
        "\n",
        "plt.xlabel(\"Predicted Labels\")\n",
        "plt.ylabel(\"True Labels\")\n",
        "plt.title(\"Confusion Matrix\")\n",
        "\n",
        "plt.show()"
      ]
    },
    {
      "cell_type": "code",
      "execution_count": 79,
      "metadata": {
        "colab": {
          "base_uri": "https://localhost:8080/"
        },
        "id": "GC-QHI9QL5qU",
        "outputId": "f05a4533-6e6c-4e53-d7ec-a8a23fff27ad"
      },
      "outputs": [
        {
          "output_type": "stream",
          "name": "stdout",
          "text": [
            "Number of unique classes in training data: 14\n",
            "Epoch 1/10\n",
            "434/434 [==============================] - 5s 10ms/step - loss: 0.4045 - accuracy: 0.9137 - val_loss: 0.2127 - val_accuracy: 0.9344\n",
            "Epoch 2/10\n",
            "434/434 [==============================] - 3s 7ms/step - loss: 0.2203 - accuracy: 0.9338 - val_loss: 0.1666 - val_accuracy: 0.9445\n",
            "Epoch 3/10\n",
            "434/434 [==============================] - 3s 6ms/step - loss: 0.1793 - accuracy: 0.9475 - val_loss: 0.1390 - val_accuracy: 0.9569\n",
            "Epoch 4/10\n",
            "434/434 [==============================] - 2s 6ms/step - loss: 0.1554 - accuracy: 0.9532 - val_loss: 0.1319 - val_accuracy: 0.9549\n",
            "Epoch 5/10\n",
            "434/434 [==============================] - 3s 6ms/step - loss: 0.1383 - accuracy: 0.9568 - val_loss: 0.1451 - val_accuracy: 0.9600\n",
            "Epoch 6/10\n",
            "434/434 [==============================] - 3s 8ms/step - loss: 0.1279 - accuracy: 0.9613 - val_loss: 0.1022 - val_accuracy: 0.9716\n",
            "Epoch 7/10\n",
            "434/434 [==============================] - 2s 6ms/step - loss: 0.1198 - accuracy: 0.9632 - val_loss: 0.1031 - val_accuracy: 0.9709\n",
            "Epoch 8/10\n",
            "434/434 [==============================] - 2s 5ms/step - loss: 0.1085 - accuracy: 0.9652 - val_loss: 0.0866 - val_accuracy: 0.9726\n",
            "Epoch 9/10\n",
            "434/434 [==============================] - 3s 6ms/step - loss: 0.1003 - accuracy: 0.9679 - val_loss: 0.0814 - val_accuracy: 0.9770\n",
            "Epoch 10/10\n",
            "434/434 [==============================] - 3s 6ms/step - loss: 0.0961 - accuracy: 0.9686 - val_loss: 0.0826 - val_accuracy: 0.9738\n",
            "186/186 [==============================] - 1s 4ms/step - loss: 0.0826 - accuracy: 0.9738\n",
            "\n",
            "\n",
            "Accuracy: 97.38%\n"
          ]
        }
      ],
      "source": [
        "X2_train = X_train.reshape((X_train.shape[0], 19, 2, 1))\n",
        "X2_test = X_test.reshape((X_test.shape[0], 19, 2, 1))\n",
        "# Check the number of unique labels in your training data\n",
        "num_classes = len(np.unique(y_train_encoded))\n",
        "print(\"Number of unique classes in training data:\", num_classes)\n",
        "\n",
        "# MINI-VGGNet model\n",
        "model = Sequential()\n",
        "model.add(Conv2D(32, (2, 1), activation='relu', input_shape=(19, 2, 1)))\n",
        "model.add(Conv2D(32, (2, 1), activation='relu'))\n",
        "model.add(MaxPooling2D((2, 1)))\n",
        "model.add(Flatten())\n",
        "model.add(Dense(32, activation='relu'))\n",
        "model.add(Dense(num_classes, activation='softmax'))\n",
        "\n",
        "model.compile(optimizer='adam',\n",
        "              loss='sparse_categorical_crossentropy',\n",
        "              metrics=['accuracy'])\n",
        "\n",
        "model.fit(X2_train, y_train_encoded, epochs=10, validation_data=(X2_test, y_test_encoded))\n",
        "\n",
        "results = model.evaluate(X2_test,y_test_encoded)\n",
        "print(\"\\n\\nAccuracy: %.2f%%\" % (results[1]*100))"
      ]
    },
    {
      "cell_type": "code",
      "execution_count": 80,
      "metadata": {
        "colab": {
          "base_uri": "https://localhost:8080/",
          "height": 1000
        },
        "id": "V_8zdUE9c35G",
        "outputId": "a24d1b53-f15c-4ba5-8462-3e37a8f8f06b"
      },
      "outputs": [
        {
          "output_type": "stream",
          "name": "stdout",
          "text": [
            "186/186 [==============================] - 1s 3ms/step\n"
          ]
        },
        {
          "output_type": "display_data",
          "data": {
            "text/plain": [
              "<Figure size 1600x1200 with 2 Axes>"
            ],
            "image/png": "[encoded data removed]"
          },
          "metadata": {}
        }
      ],
      "source": [
        "y_pred = np.argmax(model.predict(X2_test), axis=-1)\n",
        "\n",
        "cm = confusion_matrix(y_test_encoded, y_pred, labels=unique_labels)\n",
        "fig, ax = plt.subplots(figsize=(16, 12))\n",
        "sns.heatmap(cm, annot=True, cmap='Blues', xticklabels=unique_labels, yticklabels=unique_labels)\n",
        "\n",
        "plt.xlabel(\"Predicted Labels\")\n",
        "plt.ylabel(\"True Labels\")\n",
        "plt.title(\"Confusion Matrix\")\n",
        "\n",
        "plt.show()"
      ]
    },
    {
      "cell_type": "code",
      "execution_count": 81,
      "metadata": {
        "colab": {
          "base_uri": "https://localhost:8080/"
        },
        "id": "BVTY7u_cMr6F",
        "outputId": "5ab86fe6-66b9-4815-9061-85cb44216dd8"
      },
      "outputs": [
        {
          "output_type": "stream",
          "name": "stdout",
          "text": [
            "Epoch 1/2\n",
            "434/434 [==============================] - 203s 461ms/step - loss: 0.8707 - accuracy: 0.8073 - val_loss: 0.7062 - val_accuracy: 0.8651\n",
            "Epoch 2/2\n",
            "434/434 [==============================] - 209s 482ms/step - loss: 0.5190 - accuracy: 0.8682 - val_loss: 0.3396 - val_accuracy: 0.9124\n",
            "186/186 [==============================] - 9s 50ms/step - loss: 0.3396 - accuracy: 0.9124\n",
            "\n",
            "\n",
            "Accuracy: 91.24%\n"
          ]
        }
      ],
      "source": [
        "# Define the AlexNet model\n",
        "model = Sequential()\n",
        "model.add(Conv2D(filters=96, kernel_size=(2,1), strides=(4,4), activation='relu', input_shape=(19, 2, 1)))\n",
        "model.add(MaxPooling2D(pool_size=(2,1), strides=(2,2)))\n",
        "model.add(BatchNormalization())\n",
        "model.add(Conv2D(filters=256, kernel_size=(2,1), strides=(1,1), padding='same', activation='relu'))\n",
        "model.add(MaxPooling2D(pool_size=(2,1), strides=(2,2)))\n",
        "model.add(BatchNormalization())\n",
        "model.add(Conv2D(filters=384, kernel_size=(2,1), strides=(1,1), padding='same', activation='relu'))\n",
        "model.add(BatchNormalization())\n",
        "model.add(Conv2D(filters=384, kernel_size=(2,1), strides=(1,1), padding='same', activation='relu'))\n",
        "model.add(BatchNormalization())\n",
        "model.add(Conv2D(filters=256, kernel_size=(2,1), strides=(1,1), padding='same', activation='relu'))\n",
        "model.add(MaxPooling2D(pool_size=(1,1), strides=(1,1)))\n",
        "model.add(BatchNormalization())\n",
        "model.add(Flatten())\n",
        "model.add(Dense(4096, activation='relu'))\n",
        "model.add(Dropout(0.5))\n",
        "model.add(BatchNormalization())\n",
        "model.add(Dense(4096, activation='relu'))\n",
        "model.add(Dropout(0.5))\n",
        "model.add(BatchNormalization())\n",
        "# Determine the number of unique classes\n",
        "num_classes = len(np.unique(y_train_encoded))\n",
        "model.add(Dense(num_classes, activation='softmax'))\n",
        "\n",
        "model.compile(optimizer='adam',\n",
        "              loss='sparse_categorical_crossentropy',\n",
        "              metrics=['accuracy'])\n",
        "\n",
        "model.fit(X2_train, y_train_encoded, epochs=2, validation_data=(X2_test, y_test_encoded))\n",
        "\n",
        "results = model.evaluate(X2_test,y_test_encoded)\n",
        "print(\"\\n\\nAccuracy: %.2f%%\" % (results[1]*100))"
      ]
    },
    {
      "cell_type": "code",
      "execution_count": 82,
      "metadata": {
        "colab": {
          "base_uri": "https://localhost:8080/",
          "height": 1000
        },
        "id": "QUpYCgitc6kB",
        "outputId": "5e0b0794-557e-4190-f491-f51730ebf8c7"
      },
      "outputs": [
        {
          "output_type": "stream",
          "name": "stdout",
          "text": [
            "186/186 [==============================] - 8s 40ms/step\n"
          ]
        },
        {
          "output_type": "display_data",
          "data": {
            "text/plain": [
              "<Figure size 1600x1200 with 2 Axes>"
            ],
            "image/png": "[encoded data removed]"
          },
          "metadata": {}
        }
      ],
      "source": [
        "y_pred = np.argmax(model.predict(X2_test), axis=-1)\n",
        "\n",
        "cm = confusion_matrix(y_test_encoded, y_pred, labels=unique_labels)\n",
        "fig, ax = plt.subplots(figsize=(16, 12))\n",
        "sns.heatmap(cm, annot=True, cmap='Blues', xticklabels=unique_labels, yticklabels=unique_labels)\n",
        "\n",
        "plt.xlabel(\"Predicted Labels\")\n",
        "plt.ylabel(\"True Labels\")\n",
        "plt.title(\"Confusion Matrix\")\n",
        "\n",
        "plt.show()"
      ]
    }
  ],
  "metadata": {
    "colab": {
      "provenance": [],
      "include_colab_link": true
    },
    "kernelspec": {
      "display_name": "Python 3",
      "name": "python3"
    },
    "language_info": {
      "name": "python"
    }
  },
  "nbformat": 4,
  "nbformat_minor": 0
}